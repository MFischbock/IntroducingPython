{
  "nbformat": 4,
  "nbformat_minor": 0,
  "metadata": {
    "colab": {
      "name": "Sequenzielle Datentypen.ipynb",
      "provenance": [],
      "collapsed_sections": []
    },
    "kernelspec": {
      "name": "python3",
      "display_name": "Python 3"
    },
    "language_info": {
      "name": "python"
    }
  },
  "cells": [
    {
      "cell_type": "markdown",
      "metadata": {
        "id": "xHpMx8a5ymyX"
      },
      "source": [
        "#Ist ein Element vorhanden?\n",
        "\n",
        "Mit Hilfe von *in* lässt sich bestimmen, ob ein Element in einer Sequenz vorhanden ist."
      ]
    },
    {
      "cell_type": "code",
      "metadata": {
        "id": "97n3N_wizIwF"
      },
      "source": [
        "lst = [\"eins\",2,3.0,\"vier\",5,\"sechs\",\"sieben\"]\n",
        "\n",
        "# Suche nach einzelnen Elementen\n",
        "\n",
        "#Beispiel:\n",
        "3.0 in lst "
      ],
      "execution_count": null,
      "outputs": []
    },
    {
      "cell_type": "code",
      "metadata": {
        "id": "sCS0lOyR1hWU"
      },
      "source": [
        "# Suche nach einzelnen Buchstaben und Sequenzen:\n",
        "\n",
        "s = \"Dies ist ein Test-String\"\n",
        "\n",
        "#Beispiel: \n",
        "#1 Bestimmter Buchstabe\n",
        "\n",
        "#2 \n",
        "if \"z\"\n",
        "\n",
        "#3 Teilstring suche\n",
        "\"ist\" in s"
      ],
      "execution_count": null,
      "outputs": []
    },
    {
      "cell_type": "markdown",
      "metadata": {
        "id": "HKeurUR53fF8"
      },
      "source": [
        "Es lässt sich aber nicht überprüfen, ob eine Teilliste in einer Liste auftaucht. "
      ]
    },
    {
      "cell_type": "code",
      "metadata": {
        "colab": {
          "base_uri": "https://localhost:8080/"
        },
        "id": "_XXHKjnj3z8a",
        "outputId": "1ec774ed-8557-4971-9821-91402d210e06"
      },
      "source": [
        "[2,3] in [1,2,3,4]  "
      ],
      "execution_count": null,
      "outputs": [
        {
          "output_type": "execute_result",
          "data": {
            "text/plain": [
              "False"
            ]
          },
          "metadata": {
            "tags": []
          },
          "execution_count": 11
        }
      ]
    },
    {
      "cell_type": "markdown",
      "metadata": {
        "id": "hBM5DwgO38QJ"
      },
      "source": [
        "Prüfen des Gegenteils:"
      ]
    },
    {
      "cell_type": "code",
      "metadata": {
        "id": "Fde0kae-3_ve"
      },
      "source": [
        "#\"a\" in \"Hallo Muthesius\"\n",
        "\n",
        "#\"a\" not in \"Hallo Muthesius\""
      ],
      "execution_count": null,
      "outputs": []
    },
    {
      "cell_type": "markdown",
      "metadata": {
        "id": "Jm3Hi9504XK1"
      },
      "source": [
        "# Verkettung von Sequenzen\n",
        "Mit dem + Operator lassen sich Strings zusammenführen"
      ]
    },
    {
      "cell_type": "code",
      "metadata": {
        "id": "-foq43pm4rkJ"
      },
      "source": [
        "vorname = \"Martin\"\n",
        "nachname = \"Fischbock\"\n",
        "zusammengesetzt = vorname + \" \" + nachname\n",
        "zusammengesetzt"
      ],
      "execution_count": null,
      "outputs": []
    },
    {
      "cell_type": "code",
      "metadata": {
        "colab": {
          "base_uri": "https://localhost:8080/",
          "height": 37
        },
        "id": "fJ9RAvK5HSZc",
        "outputId": "41b071c7-e3fb-4341-f983-f59b532962ba"
      },
      "source": [
        "s = \"Musik\"\n",
        "t = \"instrument\"\n",
        "s += t\n",
        "s"
      ],
      "execution_count": null,
      "outputs": [
        {
          "output_type": "execute_result",
          "data": {
            "application/vnd.google.colaboratory.intrinsic+json": {
              "type": "string"
            },
            "text/plain": [
              "'Musikinstruments'"
            ]
          },
          "metadata": {
            "tags": []
          },
          "execution_count": 17
        }
      ]
    },
    {
      "cell_type": "markdown",
      "metadata": {
        "id": "KxLTCqFGHqAR"
      },
      "source": [
        "**Wichtig: Bei immutable Datentypen wird eine neue Instanz aufgemacht!**"
      ]
    },
    {
      "cell_type": "code",
      "metadata": {
        "colab": {
          "base_uri": "https://localhost:8080/"
        },
        "id": "NXsT27kPILfZ",
        "outputId": "00b7cf50-78fd-477c-8f16-153757a795f1"
      },
      "source": [
        "#Immutable Datentyp String\n"
      ],
      "execution_count": null,
      "outputs": [
        {
          "output_type": "stream",
          "text": [
            "Musikinstrument\n",
            "instrument\n",
            "Musik\n"
          ],
          "name": "stdout"
        }
      ]
    },
    {
      "cell_type": "code",
      "metadata": {
        "colab": {
          "base_uri": "https://localhost:8080/"
        },
        "id": "YKX6eSlPIkQT",
        "outputId": "59a3dbfa-a461-49e9-f91e-c653494c0e43"
      },
      "source": [
        "#Mutable Datentyp Liste\n"
      ],
      "execution_count": null,
      "outputs": [
        {
          "output_type": "stream",
          "text": [
            "[1, 2, 3, 4]\n",
            "[3, 4]\n",
            "[1, 2, 3, 4]\n"
          ],
          "name": "stdout"
        }
      ]
    },
    {
      "cell_type": "markdown",
      "metadata": {
        "id": "DI94_kAjJEja"
      },
      "source": [
        "# Wiederholung von Sequenzen\n",
        "Mit dem * Operator lassen sich neue Sequenzen bilden die n-Kopien enthalten der Sequenz. "
      ]
    },
    {
      "cell_type": "code",
      "metadata": {
        "colab": {
          "base_uri": "https://localhost:8080/",
          "height": 37
        },
        "id": "G-F1hEh4JUTc",
        "outputId": "2b479237-5461-4a59-b841-4715f3ba515a"
      },
      "source": [
        "3 * \"ABC\""
      ],
      "execution_count": null,
      "outputs": [
        {
          "output_type": "execute_result",
          "data": {
            "application/vnd.google.colaboratory.intrinsic+json": {
              "type": "string"
            },
            "text/plain": [
              "'ABCABCABC'"
            ]
          },
          "metadata": {
            "tags": []
          },
          "execution_count": 21
        }
      ]
    },
    {
      "cell_type": "code",
      "metadata": {
        "colab": {
          "base_uri": "https://localhost:8080/",
          "height": 37
        },
        "id": "71UQucu9Jacd",
        "outputId": "dec28deb-d18a-4536-ea03-fff4c225c8ff"
      },
      "source": [
        "\"XYZ\" * 4"
      ],
      "execution_count": null,
      "outputs": [
        {
          "output_type": "execute_result",
          "data": {
            "application/vnd.google.colaboratory.intrinsic+json": {
              "type": "string"
            },
            "text/plain": [
              "'XYZXYZXYZXYZ'"
            ]
          },
          "metadata": {
            "tags": []
          },
          "execution_count": 22
        }
      ]
    },
    {
      "cell_type": "code",
      "metadata": {
        "colab": {
          "base_uri": "https://localhost:8080/"
        },
        "id": "w3zzQPGyJi7t",
        "outputId": "6b972cad-85b9-4a12-d177-bd12fbf14ac4"
      },
      "source": [
        "s = \"Hipp\"\n",
        "t = \"Hurra\"\n"
      ],
      "execution_count": null,
      "outputs": [
        {
          "output_type": "stream",
          "text": [
            "HippHippHurra\n"
          ],
          "name": "stdout"
        }
      ]
    },
    {
      "cell_type": "code",
      "metadata": {
        "colab": {
          "base_uri": "https://localhost:8080/"
        },
        "id": "ZmFZtpkdJ3az",
        "outputId": "5e3496e6-8e23-4382-9734-481c2d74a85f"
      },
      "source": [
        "[1,2] * 3"
      ],
      "execution_count": null,
      "outputs": [
        {
          "output_type": "execute_result",
          "data": {
            "text/plain": [
              "[1, 2, 1, 2, 1, 2]"
            ]
          },
          "metadata": {
            "tags": []
          },
          "execution_count": 24
        }
      ]
    },
    {
      "cell_type": "markdown",
      "metadata": {
        "id": "6AugNSaQKWop"
      },
      "source": [
        "# Zugriff auf bestimmte Elemente einer Sequenz\n",
        "Jedem Element in einer Sequenz ist ein Index zugewiesen. Angefangen mit 0 kann man über den [ ] Operator darauf zugreifen. "
      ]
    },
    {
      "cell_type": "code",
      "metadata": {
        "colab": {
          "base_uri": "https://localhost:8080/"
        },
        "id": "VdOqLbjOKzM8",
        "outputId": "8055e585-7037-4036-afe7-6241a073e943"
      },
      "source": [
        "alphabet = \"ABCDEFGHIKLMNOPQRSTUVWXYZ\"\n",
        "\n",
        "#Aufgabe: Greife auf das dritte Elemte zu:\n",
        "\n",
        "#Aufagbe: Greife auf das 4 Element zu: \n"
      ],
      "execution_count": null,
      "outputs": [
        {
          "output_type": "stream",
          "text": [
            "C\n",
            "4\n"
          ],
          "name": "stdout"
        }
      ]
    },
    {
      "cell_type": "markdown",
      "metadata": {
        "id": "Q9pSG1V8LmJ-"
      },
      "source": [
        "Zugriff auf die letzten Elemet ist ebennfalls möglich und über den umgekehrten Index möglich. Das letzte Element hat den Index -1, das vorletzte -2 usw.. \n"
      ]
    },
    {
      "cell_type": "code",
      "metadata": {
        "colab": {
          "base_uri": "https://localhost:8080/"
        },
        "id": "ssrGVHBzL1Nh",
        "outputId": "f79276e8-d83b-4212-a7b2-bd9e73496865"
      },
      "source": [
        "#Aufgabe: Greife auf das letzte Element vom Alphabet zu: \n",
        "\n",
        "#Aufagbe: Greife auf das vorletzte Element aus l zu:\n"
      ],
      "execution_count": null,
      "outputs": [
        {
          "output_type": "stream",
          "text": [
            "Z\n",
            "8\n"
          ],
          "name": "stdout"
        }
      ]
    },
    {
      "cell_type": "markdown",
      "metadata": {
        "id": "10zYw0usMgrN"
      },
      "source": [
        "Es lassen sich auch Bereiche aus der Sequenz rausgeben mit Hilfe des : Operators. Der erste Index vor : gibt das erste Element an, welches herrausgegeben werden soll. Der Index nach : gibt an, welches Element **nicht** mehr in der Liste ist. "
      ]
    },
    {
      "cell_type": "code",
      "metadata": {
        "colab": {
          "base_uri": "https://localhost:8080/"
        },
        "id": "VuyHCXUMMoCi",
        "outputId": "bf17c11d-7f88-4ad2-c076-797873a976ba"
      },
      "source": [
        "string = \"Dies ist ein WICHTIGER String\"\n",
        "#Aufgabe: Gib nur den Teil \"Wichtiger\" aus. \n",
        "\n"
      ],
      "execution_count": null,
      "outputs": [
        {
          "output_type": "stream",
          "text": [
            "WICHTIGER\n"
          ],
          "name": "stdout"
        }
      ]
    },
    {
      "cell_type": "code",
      "metadata": {
        "colab": {
          "base_uri": "https://localhost:8080/"
        },
        "id": "sTAWnJSINYwg",
        "outputId": "aef75027-9dab-4281-99c4-c5c1861ebb0a"
      },
      "source": [
        "# Extraktion aus einer Liste\n",
        "lst = [1,2,3,\"vier\",\"fünf\",\"sechs\",7,8,\"neun\"]\n",
        "#Aufgabe: Gib das vierte bis siebte Element aus:\n",
        "\n"
      ],
      "execution_count": null,
      "outputs": [
        {
          "output_type": "stream",
          "text": [
            "['vier', 'fünf', 'sechs', 7]\n"
          ],
          "name": "stdout"
        }
      ]
    },
    {
      "cell_type": "code",
      "metadata": {
        "colab": {
          "base_uri": "https://localhost:8080/"
        },
        "id": "8LqyJWT9N53K",
        "outputId": "b5c14ef1-a31c-40d7-a3c1-447f8f6d226d"
      },
      "source": [
        "#Slicing ist auch möglich (Mischung von positiven und negativen Indizes):\n"
      ],
      "execution_count": null,
      "outputs": [
        {
          "output_type": "stream",
          "text": [
            "meise\n"
          ],
          "name": "stdout"
        }
      ]
    },
    {
      "cell_type": "code",
      "metadata": {
        "colab": {
          "base_uri": "https://localhost:8080/"
        },
        "id": "jbTF4ZVMOKg1",
        "outputId": "88158f79-bb09-49ec-e657-2547eb505d1a"
      },
      "source": [
        "# Start und Stopp werden beim weglassen automatisch gesetzt. \n"
      ],
      "execution_count": null,
      "outputs": [
        {
          "output_type": "stream",
          "text": [
            "ABCDEFGHIKLM\n",
            "['fünf', 'sechs', 7, 8, 'neun']\n"
          ],
          "name": "stdout"
        }
      ]
    },
    {
      "cell_type": "code",
      "metadata": {
        "colab": {
          "base_uri": "https://localhost:8080/"
        },
        "id": "pRBrKxh6O9fO",
        "outputId": "a7296d09-c9cb-48ac-a1ed-7feceb1d0fb0"
      },
      "source": [
        "# Mit Hilfe des [:] Operators wird eine echte Kopie der Sequenz erzeugt:\n",
        "s1 = [\"Kunsthochschule\"]\n",
        "s2 = s1 \n",
        "\n",
        "\n",
        "#Während:\n",
        "s2 = s1[:]\n"
      ],
      "execution_count": null,
      "outputs": [
        {
          "output_type": "stream",
          "text": [
            "True\n",
            "True\n",
            "True\n",
            "False\n"
          ],
          "name": "stdout"
        }
      ]
    },
    {
      "cell_type": "code",
      "metadata": {
        "id": "3BrbuUCDP9-M"
      },
      "source": [
        "#Schrittweisen können ebenfalls beim Slicing eingesetzt werden. \n",
        "#Hierfür wird hinter die Indizes die Schrittweite (step) eingetragen:\n",
        "\n",
        "lst = [1,2,3,4,5,6,7,8,9,10,11,12,13,14,15,16,17,18,19,20]\n",
        "\n",
        "\n",
        "#Die 2 gibt an, dass nur jedes zweite Element benutzt wird.\n",
        "\n",
        "#Sequenzen lassen sich auch mit einer negativen Schrittweite umddrehen:\n",
        "\n",
        "text = \"Guter txeT\"\n",
        "\n",
        "\n",
        "#Wichtig: Bei einer negativen Schrittweite werden Anfang und Ende vertauscht\n",
        "\n",
        "#Zudem: Wenn die Indizes die Ober oder Untergrenze überschreiten/unterschreiten,\n",
        "#wird der maximal/minimal zulässige Wert angenommen. Elemente außerhalb des \n",
        "#Indizes sind leer. \n",
        "\n",
        "liste = [1,2,3,4,5,6,7,8,9,0]\n",
        "\n"
      ],
      "execution_count": null,
      "outputs": []
    },
    {
      "cell_type": "markdown",
      "metadata": {
        "id": "wqncX5OcVFBa"
      },
      "source": [
        "# Länge einer Sequenz\n",
        "Mit der Build-in Dunction len lässt sich die Länge einer Sequenzen ausgeben. "
      ]
    },
    {
      "cell_type": "code",
      "metadata": {
        "colab": {
          "base_uri": "https://localhost:8080/"
        },
        "id": "0kVrxkTrVR_L",
        "outputId": "eca57b32-12ff-4810-a063-24c3f92ab846"
      },
      "source": [
        "liste = [1,2,3,4,5,6,7,8,9,0]\n"
      ],
      "execution_count": null,
      "outputs": [
        {
          "output_type": "stream",
          "text": [
            "10\n",
            "25\n"
          ],
          "name": "stdout"
        }
      ]
    },
    {
      "cell_type": "markdown",
      "metadata": {
        "id": "uMLenM4FWj-m"
      },
      "source": [
        "# Kleinstes und größtes Element einer Liste ausgeben\n",
        "Die Build-In Funktionen *min* und *max* geben das kleinste und größte Element aus"
      ]
    },
    {
      "cell_type": "code",
      "metadata": {
        "id": "GssSJkQeW4C_"
      },
      "source": [
        "print(min(liste))\n",
        "print(max(liste))\n",
        "\n",
        "#Wichtig: Die zu vergleichenden Datentypen müssen eine Ordnungsrelation haben\n",
        "#Strings und Zahlen lassen sich nicht vergleichen\n",
        "\n",
        "temp = [1,2,\"drei\",\"vier\"]\n",
        "\n",
        "\n",
        "#Aber: \n",
        "print(max(alphabet))\n",
        "#Für Buchstaben für die Ordnungsrelation des Alphabets genutzt."
      ],
      "execution_count": null,
      "outputs": []
    },
    {
      "cell_type": "markdown",
      "metadata": {
        "id": "yFWGFw3sZ2ic"
      },
      "source": [
        "# Position eines Elements mit Hilfe von s.index(x,[i,j])\n"
      ]
    },
    {
      "cell_type": "code",
      "metadata": {
        "colab": {
          "base_uri": "https://localhost:8080/"
        },
        "id": "rlRoFuleaFRD",
        "outputId": "6f41250a-317a-4771-e5b8-5cfb4bb644c4"
      },
      "source": [
        "ziffern = [1,2,3,4,5,6,7,8,9,0]\n",
        "\n",
        "\n",
        "string = \"Hallo Muthesius\"\n"
      ],
      "execution_count": null,
      "outputs": [
        {
          "output_type": "stream",
          "text": [
            "2\n",
            "6\n"
          ],
          "name": "stdout"
        }
      ]
    },
    {
      "cell_type": "code",
      "metadata": {
        "colab": {
          "base_uri": "https://localhost:8080/"
        },
        "id": "2N6ImbNSbXST",
        "outputId": "110a1930-faee-45b9-eb35-74eda80953f9"
      },
      "source": [
        "wiederholendeZiffern = [22,44,55,66,11,22,33,44]\n"
      ],
      "execution_count": null,
      "outputs": [
        {
          "output_type": "stream",
          "text": [
            "0\n",
            "5\n",
            "7\n",
            "7\n"
          ],
          "name": "stdout"
        }
      ]
    },
    {
      "cell_type": "code",
      "metadata": {
        "colab": {
          "base_uri": "https://localhost:8080/",
          "height": 164
        },
        "id": "N83S7Optfou5",
        "outputId": "f5d8ac40-f757-4444-93c8-68918b298c4f"
      },
      "source": [
        "wiederholendeZiffern.index(12)"
      ],
      "execution_count": null,
      "outputs": [
        {
          "output_type": "error",
          "ename": "ValueError",
          "evalue": "ignored",
          "traceback": [
            "\u001b[0;31m---------------------------------------------------------------------------\u001b[0m",
            "\u001b[0;31mValueError\u001b[0m                                Traceback (most recent call last)",
            "\u001b[0;32m<ipython-input-76-9f5a6d8f79a2>\u001b[0m in \u001b[0;36m<module>\u001b[0;34m()\u001b[0m\n\u001b[0;32m----> 1\u001b[0;31m \u001b[0mwiederholendeZiffern\u001b[0m\u001b[0;34m.\u001b[0m\u001b[0mindex\u001b[0m\u001b[0;34m(\u001b[0m\u001b[0;36m12\u001b[0m\u001b[0;34m)\u001b[0m\u001b[0;34m\u001b[0m\u001b[0;34m\u001b[0m\u001b[0m\n\u001b[0m",
            "\u001b[0;31mValueError\u001b[0m: 12 is not in list"
          ]
        }
      ]
    },
    {
      "cell_type": "markdown",
      "metadata": {
        "id": "N_qebII7f3rZ"
      },
      "source": [
        "# Anzahl der Vorkommen eines Elementes zählen mit s.count(x)\n"
      ]
    },
    {
      "cell_type": "code",
      "metadata": {
        "colab": {
          "base_uri": "https://localhost:8080/"
        },
        "id": "wKANZJEVgEtt",
        "outputId": "65e70cdd-0841-4c4e-ce45-75e37e1f7d28"
      },
      "source": [
        "vieleZiffern.count(22)"
      ],
      "execution_count": null,
      "outputs": [
        {
          "output_type": "execute_result",
          "data": {
            "text/plain": [
              "2"
            ]
          },
          "metadata": {
            "tags": []
          },
          "execution_count": 77
        }
      ]
    },
    {
      "cell_type": "markdown",
      "metadata": {
        "id": "dqt8XI9tgUYR"
      },
      "source": [
        "# Listen\n",
        "Bei Listen haben wir einen mutable Datentypen, der neue Operationen zulässt, die bei immutable Datentypen nicht zur Verfügung stehen. \n",
        "Im Gegensatz zu Strings können Listen unterschiedliche Datentypen speichern (Strings, Zahlen, weitere Listen).\n",
        "Syntax: liste = [x,y,z] "
      ]
    },
    {
      "cell_type": "code",
      "metadata": {
        "colab": {
          "base_uri": "https://localhost:8080/"
        },
        "id": "xSE0HH6OhRpi",
        "outputId": "012d4138-0a1c-4fc7-c3a6-2412aae45eed"
      },
      "source": [
        "l = [1,0.5,\"String\",2]"
      ],
      "execution_count": null,
      "outputs": [
        {
          "output_type": "stream",
          "text": [
            "[1, 0.5, 'String', 2]\n"
          ],
          "name": "stdout"
        }
      ]
    },
    {
      "cell_type": "markdown",
      "metadata": {
        "id": "q1arZFZgiApO"
      },
      "source": [
        "# Verändern eines Wertes innerhalb der Liste mit Zuweisung [ ] "
      ]
    },
    {
      "cell_type": "code",
      "metadata": {
        "colab": {
          "base_uri": "https://localhost:8080/"
        },
        "id": "t4ao_JzPivA4",
        "outputId": "3c6cdf21-e5a9-4004-84df-e47d4f5f54f2"
      },
      "source": [
        "liste = [1,2,3,4,5,6,7,8,9,0]\n"
      ],
      "execution_count": null,
      "outputs": [
        {
          "output_type": "stream",
          "text": [
            "[1, 2, 3, 420, 5, 6, 7, 8, 9, 0]\n"
          ],
          "name": "stdout"
        }
      ]
    },
    {
      "cell_type": "code",
      "metadata": {
        "colab": {
          "base_uri": "https://localhost:8080/",
          "height": 198
        },
        "id": "tyzincZ2i8-_",
        "outputId": "e187ab27-0e07-4557-c23f-4e7edcce428d"
      },
      "source": [
        "#Aber für Strings:\n",
        "string = \"HierStehtText\"\n"
      ],
      "execution_count": null,
      "outputs": [
        {
          "output_type": "error",
          "ename": "TypeError",
          "evalue": "ignored",
          "traceback": [
            "\u001b[0;31m---------------------------------------------------------------------------\u001b[0m",
            "\u001b[0;31mTypeError\u001b[0m                                 Traceback (most recent call last)",
            "\u001b[0;32m<ipython-input-4-bc57099c650a>\u001b[0m in \u001b[0;36m<module>\u001b[0;34m()\u001b[0m\n\u001b[1;32m      1\u001b[0m \u001b[0;31m#Aber für Strings:\u001b[0m\u001b[0;34m\u001b[0m\u001b[0;34m\u001b[0m\u001b[0;34m\u001b[0m\u001b[0m\n\u001b[1;32m      2\u001b[0m \u001b[0mstring\u001b[0m \u001b[0;34m=\u001b[0m \u001b[0;34m\"HierStehtText\"\u001b[0m\u001b[0;34m\u001b[0m\u001b[0;34m\u001b[0m\u001b[0m\n\u001b[0;32m----> 3\u001b[0;31m \u001b[0mstring\u001b[0m\u001b[0;34m[\u001b[0m\u001b[0;36m3\u001b[0m\u001b[0;34m]\u001b[0m \u001b[0;34m=\u001b[0m \u001b[0;34m\"E\"\u001b[0m\u001b[0;34m\u001b[0m\u001b[0;34m\u001b[0m\u001b[0m\n\u001b[0m",
            "\u001b[0;31mTypeError\u001b[0m: 'str' object does not support item assignment"
          ]
        }
      ]
    },
    {
      "cell_type": "markdown",
      "metadata": {
        "id": "ew34EswVjejc"
      },
      "source": [
        "# Ersetzen von Teillisten und einfügen von neuen Elementen"
      ]
    },
    {
      "cell_type": "code",
      "metadata": {
        "colab": {
          "base_uri": "https://localhost:8080/"
        },
        "id": "6lkIdQ_OjxOr",
        "outputId": "7c620252-1638-4f30-b200-1218ba34b17a"
      },
      "source": [
        "einkaufen = [\"Brot\",\"Wasser\",\"Milch\",\"Ovomaltine\",\"Reis\"]\n"
      ],
      "execution_count": null,
      "outputs": [
        {
          "output_type": "stream",
          "text": [
            "['Brötchen', 'Selter', 'Milch', 'Ovomaltine', 'Reis']\n"
          ],
          "name": "stdout"
        }
      ]
    },
    {
      "cell_type": "code",
      "metadata": {
        "colab": {
          "base_uri": "https://localhost:8080/"
        },
        "id": "hS_wCkSDlD_h",
        "outputId": "25847d64-c77c-4f68-c3fe-caf38b837d4a"
      },
      "source": [
        "#Mit Steps arbeiten:\n",
        "liste = [1,2,3,4,5,6,7,8,9,0]\n"
      ],
      "execution_count": null,
      "outputs": [
        {
          "output_type": "stream",
          "text": [
            "[1, 2, 'drei', 4, 5, 'sechs', 7, 8, 'neun', 0]\n"
          ],
          "name": "stdout"
        }
      ]
    },
    {
      "cell_type": "code",
      "metadata": {
        "id": "NiH2Pyr9l1PC"
      },
      "source": [
        "#Aber:\n",
        "liste = [1,2,3,4,5,6,7,8,9,0]\n",
        "\n",
        "#Python erwartet bei dieser Schrittweite ein weiteres Element, welches nicht vorhanden ist"
      ],
      "execution_count": null,
      "outputs": []
    },
    {
      "cell_type": "markdown",
      "metadata": {
        "id": "DWTwjkpZmRNk"
      },
      "source": [
        "# Element und Teilliste löschen: del zusammen mit [ ]"
      ]
    },
    {
      "cell_type": "code",
      "metadata": {
        "colab": {
          "base_uri": "https://localhost:8080/"
        },
        "id": "4qfMcly0mxQ1",
        "outputId": "50e62eb1-fe4e-47b4-e1e0-fef7e91ee4c8"
      },
      "source": [
        "s = [1,2,3,4,5,6,7,8,9,0]\n"
      ],
      "execution_count": null,
      "outputs": [
        {
          "output_type": "stream",
          "text": [
            "[1, 2, 4, 5, 6, 7, 8, 9, 0]\n"
          ],
          "name": "stdout"
        }
      ]
    },
    {
      "cell_type": "code",
      "metadata": {
        "colab": {
          "base_uri": "https://localhost:8080/"
        },
        "id": "CCsjypavnf6e",
        "outputId": "005f94bd-a874-4fb8-f99c-9429a71ac07b"
      },
      "source": [
        "#Löschen von ganzen Teilsequenzen\n",
        "s = [1,2,3,4,5,6,7,8,9,0]\n"
      ],
      "execution_count": null,
      "outputs": [
        {
          "output_type": "stream",
          "text": [
            "[1, 2, 3, 8, 9, 0]\n"
          ],
          "name": "stdout"
        }
      ]
    },
    {
      "cell_type": "code",
      "metadata": {
        "colab": {
          "base_uri": "https://localhost:8080/"
        },
        "id": "ooJtqjfwnxFI",
        "outputId": "e9265acc-164b-4472-fe7b-0c8566458df2"
      },
      "source": [
        "#Löschen mit Steps\n",
        "s = [1,2,3,4,5,6,7,8,9,0]\n"
      ],
      "execution_count": null,
      "outputs": [
        {
          "output_type": "stream",
          "text": [
            "[2, 4, 6, 8, 0]\n"
          ],
          "name": "stdout"
        }
      ]
    },
    {
      "cell_type": "markdown",
      "metadata": {
        "id": "MfLqc4KDoNzx"
      },
      "source": [
        "# Methoden von List-Instanzen"
      ]
    },
    {
      "cell_type": "code",
      "metadata": {
        "colab": {
          "base_uri": "https://localhost:8080/"
        },
        "id": "mznVM4IroR2r",
        "outputId": "36582167-5811-4eb2-9f61-e7e4ce30a8b6"
      },
      "source": [
        "# s.append(x)\n",
        "# Hängt x an das Ende von Liste s an\n",
        "\n",
        "s = [1,2,3]\n"
      ],
      "execution_count": null,
      "outputs": [
        {
          "output_type": "stream",
          "text": [
            "[1, 2, 3, 4]\n",
            "[1, 2, 3, 4, 5]\n"
          ],
          "name": "stdout"
        }
      ]
    },
    {
      "cell_type": "code",
      "metadata": {
        "colab": {
          "base_uri": "https://localhost:8080/"
        },
        "id": "Z6_wt482pVgK",
        "outputId": "022b146f-9d4f-4e7f-bed1-8ee7f9a04677"
      },
      "source": [
        "# s.extend(t) \n",
        "# Hängt die Elemente von Liste t an das Ende von Liste s\n",
        "\n",
        "s = [1,2,3]\n",
        "t = [4,5,6]\n"
      ],
      "execution_count": null,
      "outputs": [
        {
          "output_type": "stream",
          "text": [
            "[1, 2, 3, 4, 5, 6]\n",
            "[1, 2, 3, 4, 5, 6, 4, 5, 6]\n"
          ],
          "name": "stdout"
        }
      ]
    },
    {
      "cell_type": "code",
      "metadata": {
        "id": "ZFLGUzwRpyp8"
      },
      "source": [
        "# s.insert(i,x)\n",
        "# Fügt an der Stelle i das Element x in. Alle nachfolgenden Elemente haben einen \n",
        "# um eins erhöhte Index\n",
        "s = [1,2,3]\n"
      ],
      "execution_count": null,
      "outputs": []
    },
    {
      "cell_type": "code",
      "metadata": {
        "colab": {
          "base_uri": "https://localhost:8080/"
        },
        "id": "EP7T603gqbpQ",
        "outputId": "c70a1f7c-6062-4107-85f7-b84054908432"
      },
      "source": [
        "# s.pop([i]) gibt das i-te Element der Liste aus. Wird i ausgelassen wird einfach \n",
        "# das letzte Element ausgegeben. \n",
        "\n",
        "alphaListe = [\"A\",\"B\",\"C\",\"D\",\"E\",\"F\",\"G\",\"H\",\"I\",\"J\",\"K\",\"L\",\"M\",\"N\",\"O\",\"P\",\"Q\",\"R\",\"S\",\"T\",\"U\",\"V\",\"W\",\"X\",\"Y\",\"Z\"]\n",
        "\n"
      ],
      "execution_count": null,
      "outputs": [
        {
          "output_type": "stream",
          "text": [
            "['A', 'B', 'C', 'D', 'E', 'F', 'G', 'H', 'I', 'J', 'K', 'L', 'M', 'N', 'O', 'P', 'Q', 'R', 'S', 'T', 'U', 'V', 'W', 'X', 'Y', 'Z']\n",
            "D\n",
            "Z\n"
          ],
          "name": "stdout"
        }
      ]
    },
    {
      "cell_type": "code",
      "metadata": {
        "colab": {
          "base_uri": "https://localhost:8080/"
        },
        "id": "DIna7SW9yS0n",
        "outputId": "de499009-016a-46ba-a1c5-3278df625d87"
      },
      "source": [
        "# s.remove(x) entfernt das (erste) Element x aus einer Liste \n",
        "\n",
        "s = [1,2,3,4,1,2,3,4]\n",
        "\n"
      ],
      "execution_count": null,
      "outputs": [
        {
          "output_type": "stream",
          "text": [
            "[2, 3, 4, 1, 2, 3, 4]\n"
          ],
          "name": "stdout"
        }
      ]
    },
    {
      "cell_type": "code",
      "metadata": {
        "colab": {
          "base_uri": "https://localhost:8080/"
        },
        "id": "YymZRUZdyjWH",
        "outputId": "a63583ce-f7d5-4891-8ab5-136c52344665"
      },
      "source": [
        "# s.reverse() kehrt die Reihen\n",
        "s = [1,2,3,4,5,6,7,8,9,0]\n"
      ],
      "execution_count": null,
      "outputs": [
        {
          "output_type": "stream",
          "text": [
            "[0, 9, 8, 7, 6, 5, 4, 3, 2, 1]\n"
          ],
          "name": "stdout"
        }
      ]
    },
    {
      "cell_type": "code",
      "metadata": {
        "colab": {
          "base_uri": "https://localhost:8080/"
        },
        "id": "CQyTCAjrmh6N",
        "outputId": "cbc5bc60-a3b4-4041-a3ee-a374c7e5bc8e"
      },
      "source": [
        "# s.sort([key,reverse]) Sortiert die Liste s\n",
        "s = [1,4,2,3,42,234,5,2,4,1,4,8,9,6,67546,45,34,23,23]\n",
        "\n",
        "\n",
        "# key erwartet eine Funktion. So kann zum Beispiel die len-Funktion benutzt werden\n",
        "# um die Elemente anhand ihrer Zeichenlänge zu sortieren. \n",
        "\n",
        "l = [\"Katharina\", \"Peter\", \"Jan\", \"Florian\", \"Paula\", \"Ben\"]\n",
        "\n",
        "\n",
        "# Hier werden aber nicht die direkten Werte verglichen, sondern die Ausgabe der \n",
        "# Funktion beim Parameter key.\n",
        "# reverse erwartet einen Boolwert reverse = True"
      ],
      "execution_count": null,
      "outputs": [
        {
          "output_type": "stream",
          "text": [
            "[1, 1, 2, 2, 3, 4, 4, 4, 5, 6, 8, 9, 23, 23, 34, 42, 45, 234, 67546]\n",
            "['Jan', 'Ben', 'Peter', 'Paula', 'Florian', 'Katharina']\n"
          ],
          "name": "stdout"
        }
      ]
    },
    {
      "cell_type": "markdown",
      "metadata": {
        "id": "bSgKrPPMrBxd"
      },
      "source": [
        "**Allgemein:** Listen speichern keine Instanzen sondern nur Referenzen!"
      ]
    },
    {
      "cell_type": "markdown",
      "metadata": {
        "id": "ptlnLZiqu-dq"
      },
      "source": [
        "# tuple\n",
        "Listen haben den Vorteil, dass sie veränderlich/flexibel sind und deswegen häufig gewählt werden. Der Nachteil ist, dass sie auf Grund der flexibilität viele Ressourcen benötigen. Es ist aber nicht immer notwendig so flexibel zu sein, weswegen einfach nur das Speichern der Referenzen im Vordergrund steht. \n",
        "Deswegen gibt es den mutable Datentyp tuple. "
      ]
    },
    {
      "cell_type": "code",
      "metadata": {
        "colab": {
          "base_uri": "https://localhost:8080/"
        },
        "id": "jFH5Zsc5xo9q",
        "outputId": "02b53bc8-fa6c-442d-f887-e09cc08d9e5c"
      },
      "source": [
        "#Erzeugen einer tuple\n",
        "\n",
        "a = (1,2,3,4,5,6,7)\n"
      ],
      "execution_count": null,
      "outputs": [
        {
          "output_type": "stream",
          "text": [
            "(1, 2, 3, 4, 5, 6, 7)\n"
          ],
          "name": "stdout"
        },
        {
          "output_type": "execute_result",
          "data": {
            "text/plain": [
              "4"
            ]
          },
          "metadata": {
            "tags": []
          },
          "execution_count": 4
        }
      ]
    }
  ]
}